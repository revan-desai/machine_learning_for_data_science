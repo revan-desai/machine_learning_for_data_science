{
  "nbformat": 4,
  "nbformat_minor": 0,
  "metadata": {
    "colab": {
      "provenance": [],
      "authorship_tag": "ABX9TyPSkWAvxm6/xBaNInmLPIBb",
      "include_colab_link": true
    },
    "kernelspec": {
      "name": "python3",
      "display_name": "Python 3"
    },
    "language_info": {
      "name": "python"
    }
  },
  "cells": [
    {
      "cell_type": "markdown",
      "metadata": {
        "id": "view-in-github",
        "colab_type": "text"
      },
      "source": [
        "<a href=\"https://colab.research.google.com/github/revan-desai/machine_learning_for_data_science/blob/main/05_fetching_data_from_web_scrapping_01.ipynb\" target=\"_parent\"><img src=\"https://colab.research.google.com/assets/colab-badge.svg\" alt=\"Open In Colab\"/></a>"
      ]
    },
    {
      "cell_type": "code",
      "source": [
        "!pip install bs4"
      ],
      "metadata": {
        "id": "l7jX7ZCHLGH7"
      },
      "execution_count": null,
      "outputs": []
    },
    {
      "cell_type": "code",
      "source": [
        "import pandas as pd\n",
        "import requests\n",
        "from bs4 import BeautifulSoup   # this  library  is used for web scraping"
      ],
      "metadata": {
        "id": "qhPdMfDTK1xO"
      },
      "execution_count": 6,
      "outputs": []
    },
    {
      "cell_type": "code",
      "execution_count": 10,
      "metadata": {
        "id": "P55N4XzCKsNu"
      },
      "outputs": [],
      "source": [
        "headers={'User-Agent':'Mozilla/5.0 (Windows NT 6.3; Win 64 ; x64) Apple WeKit /537.36(KHTML , like Gecko) Chrome/80.0.3987.162 Safari/537.36'}\n",
        "\n",
        "## by writing above headers thing you are telling the website that the request is coming through browser and you are not a bot.\n",
        "\n",
        "webpage=requests.get('https://www.ambitionbox.com/list-of-companies',headers=headers).text\n",
        "\n"
      ]
    },
    {
      "cell_type": "code",
      "source": [
        "soup=BeautifulSoup(webpage,'lxml')"
      ],
      "metadata": {
        "id": "jkL-VJE8DtpS"
      },
      "execution_count": 11,
      "outputs": []
    },
    {
      "cell_type": "code",
      "source": [
        "soup.find_all('h1')    #h1 is a tag on website inspect element section\n",
        "# we will get one list now this list has only one item"
      ],
      "metadata": {
        "colab": {
          "base_uri": "https://localhost:8080/"
        },
        "id": "9PRVJ6KBEZPe",
        "outputId": "bc8a9b52-d972-4ea5-c769-88077f9dacc7"
      },
      "execution_count": 14,
      "outputs": [
        {
          "output_type": "execute_result",
          "data": {
            "text/plain": [
              "[<h1 class=\"companyListing__title\">\n",
              " \t\t\t\t\t\t\tList of companies in India\n",
              " \t\t\t\t\t\t</h1>]"
            ]
          },
          "metadata": {},
          "execution_count": 14
        }
      ]
    },
    {
      "cell_type": "code",
      "source": [
        "soup.find_all('h1')[0]  # extracting first element in list\n",
        "soup.find_all('h1')[0].text"
      ],
      "metadata": {
        "colab": {
          "base_uri": "https://localhost:8080/",
          "height": 35
        },
        "id": "FeDlz3dWG7nO",
        "outputId": "64e919c9-6a14-445a-9a0e-0d986078112f"
      },
      "execution_count": 17,
      "outputs": [
        {
          "output_type": "execute_result",
          "data": {
            "text/plain": [
              "'\\n\\t\\t\\t\\t\\t\\t\\tList of companies in India\\n\\t\\t\\t\\t\\t\\t'"
            ],
            "application/vnd.google.colaboratory.intrinsic+json": {
              "type": "string"
            }
          },
          "metadata": {},
          "execution_count": 17
        }
      ]
    },
    {
      "cell_type": "code",
      "source": [
        "soup.find_all('h1')[0].text.strip()"
      ],
      "metadata": {
        "colab": {
          "base_uri": "https://localhost:8080/",
          "height": 35
        },
        "id": "5DxCap-lHcIx",
        "outputId": "c21a869d-a3f3-4524-ea2b-f1e95530847a"
      },
      "execution_count": 18,
      "outputs": [
        {
          "output_type": "execute_result",
          "data": {
            "text/plain": [
              "'List of companies in India'"
            ],
            "application/vnd.google.colaboratory.intrinsic+json": {
              "type": "string"
            }
          },
          "metadata": {},
          "execution_count": 18
        }
      ]
    },
    {
      "cell_type": "markdown",
      "source": [
        "## now for h2 tag"
      ],
      "metadata": {
        "id": "e0wSE8eTHkQW"
      }
    },
    {
      "cell_type": "code",
      "source": [
        "soup.find_all('h2')[3].text.strip()"
      ],
      "metadata": {
        "colab": {
          "base_uri": "https://localhost:8080/",
          "height": 35
        },
        "id": "MPcvDPrxIo6J",
        "outputId": "8eebfc9f-e310-4c81-9072-2069a2cbcdea"
      },
      "execution_count": 29,
      "outputs": [
        {
          "output_type": "execute_result",
          "data": {
            "text/plain": [
              "'Wipro'"
            ],
            "application/vnd.google.colaboratory.intrinsic+json": {
              "type": "string"
            }
          },
          "metadata": {},
          "execution_count": 29
        }
      ]
    },
    {
      "cell_type": "code",
      "source": [
        "len(soup.find_all('h2'))"
      ],
      "metadata": {
        "colab": {
          "base_uri": "https://localhost:8080/"
        },
        "id": "BxX6GN6oJb9m",
        "outputId": "d394f7b8-9d8a-4002-ea4a-3b850b3fa360"
      },
      "execution_count": 30,
      "outputs": [
        {
          "output_type": "execute_result",
          "data": {
            "text/plain": [
              "24"
            ]
          },
          "metadata": {},
          "execution_count": 30
        }
      ]
    },
    {
      "cell_type": "code",
      "source": [
        "for i in soup.find_all('h2'):\n",
        "  print(i.text.strip())"
      ],
      "metadata": {
        "colab": {
          "base_uri": "https://localhost:8080/"
        },
        "id": "XKfmPRYDHnBV",
        "outputId": "73894daa-fa78-4707-f3e2-9f7b68f5fdf8"
      },
      "execution_count": 34,
      "outputs": [
        {
          "output_type": "stream",
          "name": "stdout",
          "text": [
            "TCS\n",
            "Accenture\n",
            "Cognizant\n",
            "Wipro\n",
            "ICICI Bank\n",
            "HDFC Bank\n",
            "Infosys\n",
            "Capgemini\n",
            "Tech Mahindra\n",
            "HCLTech\n",
            "Genpact\n",
            "Axis Bank\n",
            "Concentrix Corporation\n",
            "Amazon\n",
            "Reliance Jio\n",
            "IBM\n",
            "Larsen & Toubro Limited\n",
            "Reliance Retail\n",
            "HDB Financial Services\n",
            "Teleperformance\n",
            "Companies by  Industry\n",
            "Companies by  Locations\n",
            "Companies by  Type\n",
            "Companies by  Badges\n"
          ]
        }
      ]
    },
    {
      "cell_type": "code",
      "source": [
        "soup.find_all('span',class_='companyCardWrapper__companyRatingValue')[0].text"
      ],
      "metadata": {
        "colab": {
          "base_uri": "https://localhost:8080/",
          "height": 35
        },
        "id": "897cvGjKK-GW",
        "outputId": "eb3cfc13-ffb9-48a9-d0f5-b2911bdcd5cc"
      },
      "execution_count": 48,
      "outputs": [
        {
          "output_type": "execute_result",
          "data": {
            "text/plain": [
              "'3.8'"
            ],
            "application/vnd.google.colaboratory.intrinsic+json": {
              "type": "string"
            }
          },
          "metadata": {},
          "execution_count": 48
        }
      ]
    },
    {
      "cell_type": "code",
      "source": [
        "for i in soup.find_all('span',class_='companyCardWrapper__companyRatingValue'):    #its like i in 'words': print(i)\n",
        "  print(i.text)"
      ],
      "metadata": {
        "colab": {
          "base_uri": "https://localhost:8080/"
        },
        "id": "dO7Xe8S5M8mK",
        "outputId": "d78a5b18-ed1a-4344-8d0c-49b39708fe4c"
      },
      "execution_count": 49,
      "outputs": [
        {
          "output_type": "stream",
          "name": "stdout",
          "text": [
            "3.8\n",
            "4.1\n",
            "3.9\n",
            "3.8\n",
            "4.0\n",
            "3.9\n",
            "3.9\n",
            "3.9\n",
            "3.7\n",
            "3.7\n",
            "4.0\n",
            "3.8\n",
            "3.9\n",
            "4.2\n",
            "3.9\n",
            "4.1\n",
            "4.0\n",
            "3.9\n",
            "4.0\n",
            "3.6\n"
          ]
        }
      ]
    }
  ]
}